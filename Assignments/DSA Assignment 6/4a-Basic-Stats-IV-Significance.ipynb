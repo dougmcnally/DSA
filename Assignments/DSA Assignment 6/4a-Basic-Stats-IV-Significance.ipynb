{
 "cells": [
  {
   "cell_type": "markdown",
   "metadata": {},
   "source": [
    "# Basic Statistics IV: Statistical Significance"
   ]
  },
  {
   "cell_type": "markdown",
   "metadata": {},
   "source": [
    "## An introduction to hypothesis testing\n",
    "\n",
    "Statistical significance is one of the most important parts of statistics—it's what allows us to make conclusions about our data. \n",
    "\n",
    "But first, what does **statistical significance** mean? \n",
    "- **Definition: statistical significance** is the likelihood that the difference between a given variation and the baseline is not due to random chance. Statistical significance is calculated using different mathematical formulas, which we'll see later in the lesson."
   ]
  },
  {
   "cell_type": "markdown",
   "metadata": {},
   "source": [
    "We can determine if our difference is **statistically significant** by comparing our calculated significance value to the significance level.\n",
    "- **Definition: statistical significance level** is the level at which one can accept whether an event or difference is statistically significant, or not due to random chance. This term is denoted as $\\alpha$. The customary significance level is 5%.\n",
    "- **Definition: confidence level** is the opposite of significance level, where the confidence level indicates the degree of confidence that the result did not occur by chance. This term is calculated as $1-\\alpha$. The customary confidence level is 95%.\n",
    "- **For example**, if you run an A/B testing experiment with a **significance level ($\\alpha$) of 5%**, this means that if you determine a winner, you can be **95% confident ($1-\\alpha$)** that the observed results are real and not an error caused by randomness. But there is a **5%** chance that you could be wrong."
   ]
  },
  {
   "cell_type": "markdown",
   "metadata": {},
   "source": [
    "Next, when is statistical significance most **practically used**? \n",
    "- It is used in statistical hypothesis testing. \n",
    "- **For example**, you want to know whether or not having a healthier diet will result in lower levels of C-Reactive protein, and hence fewer incidents of infection and inflammation."
   ]
  },
  {
   "cell_type": "markdown",
   "metadata": {},
   "source": [
    "What is **hypothesis testing**? \n",
    "- **Definition:  hypothesis testing** is the use of statistic to determine the probability that a given hypothesis is true. \n",
    "- There are two types of statistical hypotheses.\n",
    "    - **Definition**:  The **null hypothesis**, denoted by $H_o$, is usually the hypothesis that sample observations result purely from chance. The most common null hypothesis is that the variable in question is equal to 0, i.e. this indicates that the variable has zero effect on the outcome of interest.\n",
    "    - **Definition**:  The **alternative hypothesis**, denoted by $H_1$ or $H_a$, is the hypothesis that sample observations are influenced by some non-random cause. A common alternative hypothesis is that the variable in question has a non-zero effect on the outcome. "
   ]
  },
  {
   "cell_type": "markdown",
   "metadata": {},
   "source": [
    "# What is a t-test?\n",
    "Let's apply these definitions to an example. Imagine we want to know whether or not having a healthier diet will result in lower levels of C-Reactive protein, and hence fewer incidents of infection and inflammation. \n",
    "- What is the **null hypothesis**?\n",
    "    - **Answer**: \n",
    "    \n",
    "- What is the **alternative hypothesis**? \n",
    "    - **Answer**: "
   ]
  },
  {
   "cell_type": "markdown",
   "metadata": {},
   "source": [
    "There are so many statistical tests that are appropriate for use if certain assumptions are met. But for this lesson, we will focus on the Student’s t-test.\n",
    "- Here a link to all statistical tests:  https://machinelearningmastery.com/statistical-hypothesis-tests-in-python-cheat-sheet/."
   ]
  },
  {
   "cell_type": "markdown",
   "metadata": {},
   "source": [
    "Let's start with a **Student’s t-test**. This test will assess whether samples from two independent population provide evidence that the populations have different means. "
   ]
  },
  {
   "cell_type": "markdown",
   "metadata": {},
   "source": [
    "Another aspect of hypothesis testing is the \"use of a statistic\". **What is this statistic (test statistic)?**\n",
    "- **Definition**: A **test statistic** is a quantity derived from the sample and is used in statistical hypothesis testing to determine whether the null hypothesis should be accepted or rejected.\n",
    "- There are a wide variety of test statistics to use for a given problem. But as we are using a Student’s t-test, we will focus on the **t-statistic**. "
   ]
  },
  {
   "cell_type": "markdown",
   "metadata": {},
   "source": [
    " $T = \\frac{\\bar{x_1} - \\bar{x_2}}{\\sqrt{s_1^2/N_1 + s_2^2/N_2}}$\n"
   ]
  },
  {
   "cell_type": "markdown",
   "metadata": {},
   "source": [
    "where $N_1$ and $N_2$ are the sample sizes, <br>\n",
    "$\\bar{x_1}$ and $\\bar{x_2}$ are the sample means, and <br>\n",
    "$s_1^2$ and $s_2^2$ are the sample variances <br>"
   ]
  },
  {
   "cell_type": "markdown",
   "metadata": {},
   "source": [
    "Now that we have calculated our t-statistic, what do we do with it to reject or fail to reject the null hypothesis?\n",
    "- We need to compare our t-statistic to a critical value. \n",
    "- **Definition**: a **critical value** is a point on the test distribution that is compared to the test statistic to determine whether to fail to reject or reject the null hypothesis. \n"
   ]
  },
  {
   "cell_type": "markdown",
   "metadata": {},
   "source": [
    "What is the critical value in the t-distribution when conducting a Student’s t-test?\n",
    "\n",
    "![curve for t-test](https://raw.githubusercontent.com/dougmcnally/DSA/main/Figures/t_curve.png)\n",
    "\n"
   ]
  },
  {
   "cell_type": "markdown",
   "metadata": {},
   "source": [
    "\n",
    "![curve for t-test](https://raw.githubusercontent.com/dougmcnally/DSA/main/Figures/t_table.jpeg)\n"
   ]
  },
  {
   "cell_type": "markdown",
   "metadata": {},
   "source": [
    "The absolute value of the critical value depends on the confidence level (A), significance level (P), and the degree of freedom (DF), which is the sample size - 1 or $N-1$. "
   ]
  },
  {
   "cell_type": "markdown",
   "metadata": {},
   "source": [
    "What are the critical value(s) for when the significance level is 0.05 and the sample size approaches infinity?\n",
    "- **Answer**:  \n",
    "\n",
    "If the absolute value of our t-statistic is greater than our critical value, then we can reject the null hypothesis."
   ]
  },
  {
   "cell_type": "markdown",
   "metadata": {},
   "source": [
    "Finally, what is a **p-value**?\n",
    "- **Definition**: a **p-value** is the probability that a test statistic at least as significant as the one observed would be obtained assuming that the null hypothesis were true. The smaller the p-value, the stronger the evidence against the null hypothesis."
   ]
  },
  {
   "cell_type": "markdown",
   "metadata": {},
   "source": [
    "The **procedure of hypothesis testing** involves four steps: \n",
    "1. Formulate the **null hypothesis** and the **alternative hypothesis**.\n",
    "2. **Identify and compute a test statistic** that can be used to reject or fail to reject the null hypothesis. Check your assumptions!\n",
    "3. **Compute the test statistic and p-value**\n",
    "4. **Compare the p-value to an acceptable significance value, $\\alpha$ and compare the test statistic to acceptable critical value(s)**. If p-value $\\leq \\alpha$ and the test-statistic $\\geq$ |critical value|, then the observed effect is statistically significant, the null hypothesis is rejected, and the alternative hypothesis is valid."
   ]
  },
  {
   "cell_type": "markdown",
   "metadata": {},
   "source": [
    "## Now, let's try it ourselves!\n",
    "\n",
    "We will work with the diabetes dataset to learn how to apply the procedure of hypothesis testing to real world data. \n",
    "- This dataset contains 442 diabetes patients with data on age (AGE), sex (SEX), body mass index (BMI), mean arterial blood pressure (MAP), six blood serum measurements (TC, LDL, HDL, TCH, LTG, and GLU), and a quantitative measure of disease progression (Y). "
   ]
  },
  {
   "cell_type": "code",
   "execution_count": null,
   "metadata": {},
   "outputs": [],
   "source": [
    "# Import pandas, so that we can import the diabetes dataset and work with the data frame version of this data\n",
    "import pandas as pd"
   ]
  },
  {
   "cell_type": "code",
   "execution_count": null,
   "metadata": {},
   "outputs": [],
   "source": [
    "# Set the path\n",
    "path = 'https://raw.githubusercontent.com/dougmcnally/DSA/main/'\n",
    "# This is where the file is located\n",
    "filename = path + 'SampleData/diabetes.csv'"
   ]
  },
  {
   "cell_type": "code",
   "execution_count": null,
   "metadata": {},
   "outputs": [],
   "source": [
    "# Load the diabetes dataset into a DataFrame\n",
    "diabetes_df = pd.read_csv(filename)\n",
    "diabetes_df"
   ]
  },
  {
   "cell_type": "markdown",
   "metadata": {},
   "source": [
    "We are interested in understanding whether there are differences in diabetes progression by sex, i.e. is the disease progression different for males vs. females? "
   ]
  },
  {
   "cell_type": "markdown",
   "metadata": {},
   "source": [
    "**1. Formulate the null hypothesis and the alternative hypothesis.**\n",
    "- **Null hypothesis**:\n",
    "- **Alternative hypothesis**: "
   ]
  },
  {
   "cell_type": "code",
   "execution_count": null,
   "metadata": {},
   "outputs": [],
   "source": [
    "# Import numpy \n",
    "import numpy as np"
   ]
  },
  {
   "cell_type": "code",
   "execution_count": null,
   "metadata": {},
   "outputs": [],
   "source": [
    "# Look at all unique values for sex\n",
    "np.unique(diabetes_df[\"SEX\"])"
   ]
  },
  {
   "cell_type": "markdown",
   "metadata": {},
   "source": [
    "Males are indicated by \"1\" for the variable \"SEX\", while females are indicated by \"2\"."
   ]
  },
  {
   "cell_type": "code",
   "execution_count": null,
   "metadata": {},
   "outputs": [],
   "source": [
    "# Define a vector of the disease progression for males and name it progression_male\n",
    "\n",
    "# Define a vector of the disease progression for females and name it progression_female\n"
   ]
  },
  {
   "cell_type": "markdown",
   "metadata": {},
   "source": [
    "**2. Identify and compute a test statistic that can be used to reject or fail to reject the null hypothesis.**\n",
    "- As we are working with two independent samples, we will use the two-sample t-test and use the t-statistic.\n"
   ]
  },
  {
   "cell_type": "markdown",
   "metadata": {},
   "source": [
    "**3. Compute the test statistic and p-value.**"
   ]
  },
  {
   "cell_type": "code",
   "execution_count": null,
   "metadata": {},
   "outputs": [],
   "source": [
    "# Import stats methods to help calculate the t-statistic and p-value\n",
    "from scipy import stats"
   ]
  },
  {
   "cell_type": "code",
   "execution_count": null,
   "metadata": {
    "scrolled": true
   },
   "outputs": [],
   "source": [
    "# Run a Student's t-test with the method ttest_ind \n"
   ]
  },
  {
   "cell_type": "markdown",
   "metadata": {},
   "source": [
    "**4. Compare the p-value to an acceptable significance value, $\\alpha$ and compare the test statistic to acceptable critical value(s)**. If p-value $< \\alpha$ and the test-statistic $\\geq$ +critical value or test-statistic $\\leq$ -critical value, that the observed effect is statistically significant, the null hypothesis is rejected, and the alternative hypothesis is not ruled out.**\n",
    "- p-value \n",
    "- t-statistic \n",
    "- Interpretation: "
   ]
  },
  {
   "cell_type": "markdown",
   "metadata": {},
   "source": [
    "Congratulations! You know how to conduct hypothesis testing with a Student’s t-test!"
   ]
  },
  {
   "cell_type": "markdown",
   "metadata": {},
   "source": [
    "**Misconceptions** about statistical significance: \n",
    "1. A low p-values implies a large effect.\n",
    "    - **Proper interpretation**: A low p-value indicates that the outcome would be highly unlikely if the null hypothesis were true. A lower p-value does not usually equate to a large effect. There are cases when a low p-value can occur with a small effect. \n",
    "2. A non-significant outcome (AKA high p-value) means that the null hypothesis is probably true.\n",
    "    - **Proper interpretation**: A non-significant outcome (AKA high p-value) means that the data do not conclusively demonstrate that the null hypothesis is false. This is why we should say, \"When the p-value > 0.05, we fail to reject the null hypothesis.\" We should not say that we accept the null hypothesis when the p-value > 0.05."
   ]
  },
  {
   "cell_type": "markdown",
   "metadata": {},
   "source": [
    "Awesome work! You just learned about statistical significance! You learned:\n",
    "\n",
    "- Important definitions such as **statistical significance, statistical significance level, null hypothesis, alternative hypothesis, test statistic, p-value, and critical values**.\n",
    "- To **conduct hypothesis testing**.\n",
    "- To **determine critical values** to compare with your own test statistic in order to decide whether a variable has an effect on the outcome of interest.\n",
    "- To implement a Student’s t-test."
   ]
  }
 ],
 "metadata": {
  "kernelspec": {
   "display_name": "Python 3",
   "language": "python",
   "name": "python3"
  },
  "language_info": {
   "codemirror_mode": {
    "name": "ipython",
    "version": 3
   },
   "file_extension": ".py",
   "mimetype": "text/x-python",
   "name": "python",
   "nbconvert_exporter": "python",
   "pygments_lexer": "ipython3",
   "version": "3.10.4"
  }
 },
 "nbformat": 4,
 "nbformat_minor": 4
}
