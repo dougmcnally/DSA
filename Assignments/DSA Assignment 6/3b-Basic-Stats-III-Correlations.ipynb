{
 "cells": [
  {
   "cell_type": "markdown",
   "metadata": {},
   "source": [
    "# Practice: Basic Statistics III"
   ]
  },
  {
   "cell_type": "markdown",
   "metadata": {
    "colab_type": "text",
    "id": "bM7gHTuE9qYi"
   },
   "source": [
    "**Remember:**\n",
    "* A **correlation** is a measure of the statistical relationship between two variables\n",
    "* Correlations can be **positive** or **negative**, and **strong** or **weak**\n",
    "* The output of the `corrcoef` function is a **correlation matrix**"
   ]
  },
  {
   "cell_type": "markdown",
   "metadata": {
    "colab_type": "text",
    "id": "l4uLzlrB9qYj"
   },
   "source": [
    "First, import numpy and pandas:"
   ]
  },
  {
   "cell_type": "code",
   "execution_count": 1,
   "metadata": {
    "colab": {},
    "colab_type": "code",
    "id": "lZ_fuvPO9qYk"
   },
   "outputs": [],
   "source": [
    "# load numpy and pandas and scipy.stats\n",
    "\n"
   ]
  },
  {
   "cell_type": "code",
   "execution_count": null,
   "metadata": {
    "colab": {
     "base_uri": "https://localhost:8080/",
     "height": 204
    },
    "colab_type": "code",
    "executionInfo": {
     "elapsed": 595,
     "status": "ok",
     "timestamp": 1563150975212,
     "user": {
      "displayName": "Kelly Sovacool",
      "photoUrl": "https://lh3.googleusercontent.com/-WQsOgn6cXFg/AAAAAAAAAAI/AAAAAAAAAVA/ol7X28qyOHc/s64/photo.jpg",
      "userId": "07259925140867310896"
     },
     "user_tz": 240
    },
    "id": "HQ2F4oU5Dhzi",
    "outputId": "d6dfd687-aa1c-495a-e2ae-28551a44032e"
   },
   "outputs": [],
   "source": [
    "#read in tips data\n",
    "path = 'https://raw.githubusercontent.com/dougmcnally/DSA/main/'\n",
    "tips = pd.read_csv(path + 'SampleData/tips.csv')\n",
    "\n"
   ]
  },
  {
   "cell_type": "markdown",
   "metadata": {
    "colab_type": "text",
    "id": "BcX7rzVXDhzm"
   },
   "source": [
    "We want to calculate the correlations of `total_bill`, `tip` and `size`. Since we are getting the correlations for three variables, what size do we expect the resulting **correlation matrix** to be? How will the correlations be organized?\n",
    "\n"
   ]
  },
  {
   "cell_type": "code",
   "execution_count": 1,
   "metadata": {
    "colab": {
     "base_uri": "https://localhost:8080/",
     "height": 68
    },
    "colab_type": "code",
    "executionInfo": {
     "elapsed": 583,
     "status": "ok",
     "timestamp": 1563150975214,
     "user": {
      "displayName": "Kelly Sovacool",
      "photoUrl": "https://lh3.googleusercontent.com/-WQsOgn6cXFg/AAAAAAAAAAI/AAAAAAAAAVA/ol7X28qyOHc/s64/photo.jpg",
      "userId": "07259925140867310896"
     },
     "user_tz": 240
    },
    "id": "WZpYvO_LDhzn",
    "outputId": "f862b329-7cfb-43f9-a565-27f9933c35da"
   },
   "outputs": [],
   "source": [
    "# create correlation matrix for total_bill, tip and size\n",
    "# HINT: what parameter do we need to use when our observations are along the rows?\n",
    "\n"
   ]
  },
  {
   "cell_type": "markdown",
   "metadata": {
    "colab_type": "text",
    "id": "D8wgM-GiDhzq"
   },
   "source": [
    "Which two variables have the strongest correlation?\n",
    "\n",
    "\n",
    "\n",
    "Which two variables have the weakest correlation?\n"
   ]
  },
  {
   "cell_type": "markdown",
   "metadata": {
    "colab_type": "text",
    "id": "6bvEGHTRDhzr"
   },
   "source": [
    "What if these relationships are different between lunch and dinner? Create two subsets of tips for the lunch and dinner times and repeat the correlation analysis."
   ]
  },
  {
   "cell_type": "code",
   "execution_count": 2,
   "metadata": {
    "colab": {
     "base_uri": "https://localhost:8080/",
     "height": 119
    },
    "colab_type": "code",
    "executionInfo": {
     "elapsed": 887,
     "status": "ok",
     "timestamp": 1563150975541,
     "user": {
      "displayName": "Kelly Sovacool",
      "photoUrl": "https://lh3.googleusercontent.com/-WQsOgn6cXFg/AAAAAAAAAAI/AAAAAAAAAVA/ol7X28qyOHc/s64/photo.jpg",
      "userId": "07259925140867310896"
     },
     "user_tz": 240
    },
    "id": "oFMbNFTWDhzs",
    "outputId": "30b24fb2-47cf-46fd-a53d-ce039b5b82fb"
   },
   "outputs": [],
   "source": [
    "# create two subsets of tips, one for lunch and one for dinner\n",
    "\n",
    "\n",
    "# compute the correlation matrix for each of the data subsets you created\n",
    "\n",
    "\n",
    "#print the correlations\n"
   ]
  },
  {
   "cell_type": "markdown",
   "metadata": {
    "colab_type": "text",
    "id": "Wph5aZBZDhzw"
   },
   "source": [
    "What do you notice when you compare the results between the different times of day? \n",
    "\n",
    "\n",
    "Do you have a *hypothesis* for why this might be? \n",
    "*HINT*: Does it have to do with a difference in the amount people generally spend for those meals? Or maybe the number of *samples* we have for each condition (i.e. meal time)? \n"
   ]
  },
  {
   "cell_type": "code",
   "execution_count": 3,
   "metadata": {
    "colab": {
     "base_uri": "https://localhost:8080/",
     "height": 85
    },
    "colab_type": "code",
    "executionInfo": {
     "elapsed": 876,
     "status": "ok",
     "timestamp": 1563150975544,
     "user": {
      "displayName": "Kelly Sovacool",
      "photoUrl": "https://lh3.googleusercontent.com/-WQsOgn6cXFg/AAAAAAAAAAI/AAAAAAAAAVA/ol7X28qyOHc/s64/photo.jpg",
      "userId": "07259925140867310896"
     },
     "user_tz": 240
    },
    "id": "66m9IfjwDhzx",
    "outputId": "5f26fbaa-300e-4c5d-b7ff-8fea2006ccfe"
   },
   "outputs": [],
   "source": [
    "# find the average meal price for each meal time\n",
    "\n",
    "\n",
    "# find the number of samples we have for each meal time\n",
    "# HINT: use len()\n"
   ]
  },
  {
   "cell_type": "markdown",
   "metadata": {
    "colab_type": "text",
    "id": "cv3C_O3IDhz3"
   },
   "source": [
    "What do you notice here? When we look at the *sample size*, we find that we have a lot fewer *samples* from the lunch shift compared to the dinner shift. When our sample size is smaller, this means that each individual sample contributes more to our final statistic, here correlation. Also, we see that the average meal price is lower for lunch as well. Both of these differences are things we must consider when comparing the correlations of these two sets."
   ]
  },
  {
   "cell_type": "markdown",
   "metadata": {
    "colab_type": "text",
    "id": "w8OatONg9qZQ"
   },
   "source": [
    "Nice job! You just practiced:\n",
    "\n",
    "* Using statistical tests to determine if two groups are significantly different\n",
    "* Using correlations to determine the relationships between variables"
   ]
  }
 ],
 "metadata": {
  "kernelspec": {
   "display_name": "Python 3",
   "language": "python",
   "name": "python3"
  },
  "language_info": {
   "codemirror_mode": {
    "name": "ipython",
    "version": 3
   },
   "file_extension": ".py",
   "mimetype": "text/x-python",
   "name": "python",
   "nbconvert_exporter": "python",
   "pygments_lexer": "ipython3",
   "version": "3.7.3"
  }
 },
 "nbformat": 4,
 "nbformat_minor": 4
}
